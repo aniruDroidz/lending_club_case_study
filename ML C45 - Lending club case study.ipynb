{
 "cells": [
  {
   "cell_type": "code",
   "execution_count": 33,
   "id": "b9a893ac-c4a8-45a5-86e6-c23e57810ced",
   "metadata": {},
   "outputs": [],
   "source": [
    "# Problem statement\n",
    "# Important factors\n",
    "# Business understanding of overall end to end process\n",
    "\n",
    "# Sample demo of EDA"
   ]
  },
  {
   "cell_type": "code",
   "execution_count": null,
   "id": "d57acc39-4b72-46c3-99d7-2c273f45d425",
   "metadata": {},
   "outputs": [],
   "source": [
    "# Need to analyse the pattern in dataset\n",
    "# Categorical vs Caterical - stats bar chart/stats column chart\n",
    "# Categorical vs Numerical - Box plot\n",
    "# Numerical vs Numerical - Line chart, scattered plot\n",
    "# Heatmaps - famous in displaying correlation with strength"
   ]
  },
  {
   "cell_type": "code",
   "execution_count": null,
   "id": "6d572f2d-d931-4103-b311-310201b08957",
   "metadata": {},
   "outputs": [],
   "source": [
    "# loan_amnt = Applied loan amount by borrower\n",
    "# funded_amnt = Approved by the approver\n",
    "# funded_amnt_inv = Actual amount given by the invester to borrower\n",
    "\n",
    "# Data understanding\n",
    "# Data cleaning (cleaning missing values, removing redundant columns etc.)\n",
    "# Data Analysis - EDA - Univariate (Histogram), Bivariate (Cat vs Cat, Cat vs Num, Num vs Num), Multivariate (Correlation e.g. heatmaps)\n",
    "# Recommendations"
   ]
  },
  {
   "cell_type": "code",
   "execution_count": null,
   "id": "736085d2-65bf-4cc6-b3a4-4e96b48281dc",
   "metadata": {},
   "outputs": [],
   "source": [
    "# Data Cleaning\n",
    "# 1. Check the percentage of missing values\n",
    "# 2. Remove all those with very high missing percentage\n",
    "# 3. For columns with less missing percentage: perform imputations\n",
    "#         - You don't need to impute the data, you can just identify the correct metric (Mean, Median, Mode) to impute the column (K-NN -> Imputation)\n",
    "# 4. You can drop rows where the missing percentage is quite high"
   ]
  },
  {
   "cell_type": "code",
   "execution_count": null,
   "id": "f0828c90-efff-49da-9c9f-388e186e341f",
   "metadata": {},
   "outputs": [],
   "source": [
    "# Data Analysis\n",
    "\n",
    "# There are broadly three types of variables -\n",
    "# 1. those which are related to the applicate (demographic variables such as age, occupation, employment details etc.)\n",
    "# 2. Loan characteristics (amount of loan, interest rate, purpose of loan etc.) and\n",
    "# 3. Customer behaviour variables (those which are generated after the loan is approved such as delinquent 2 years, revolving balance, next payment date etc.)\n",
    "\n",
    "# Now, the customer behaviour variables are not available at the time of loan application, and thus they cannot be used as predictors for credit approval\n",
    "# The ones marked 'current' are neither fully paid not defaulted, so get rid of the current loans. Also, tag the other two values as 0 or 1 to make your analysis simple and clean"
   ]
  },
  {
   "cell_type": "code",
   "execution_count": null,
   "id": "a2236019-6e5d-4349-a174-a41742e75390",
   "metadata": {},
   "outputs": [],
   "source": [
    "# Skew on dataframe\n",
    "# https://www.geeksforgeeks.org/python-pandas-dataframe-skew/"
   ]
  },
  {
   "cell_type": "code",
   "execution_count": null,
   "id": "1851e3af-b292-4529-b41e-f0ca6338f5ad",
   "metadata": {},
   "outputs": [],
   "source": [
    "# Few Important Variables\n",
    "# Loan_amt, Term, Interest_rate, "
   ]
  },
  {
   "cell_type": "code",
   "execution_count": null,
   "id": "c2af094f-7949-486d-92a1-c2622604d811",
   "metadata": {},
   "outputs": [],
   "source": [
    "# PLotly - interactive plotting"
   ]
  },
  {
   "cell_type": "code",
   "execution_count": null,
   "id": "9648e49a-7533-4bc2-85af-54c6e93aa45a",
   "metadata": {},
   "outputs": [],
   "source": [
    "# Binning - categorising the data like age in age group\n",
    "# Violin plot - like box plot only"
   ]
  },
  {
   "cell_type": "code",
   "execution_count": null,
   "id": "75d52d5a-46e5-4ac1-a610-b54d6f0cecf3",
   "metadata": {},
   "outputs": [],
   "source": [
    "# https://drive.google.com/drive/folders/1GaKpbT7iztHUUk0MQHfj-p78Eb-H_PeD?usp=sharing"
   ]
  },
  {
   "cell_type": "code",
   "execution_count": 2,
   "id": "5c67c4d4-336b-4fd9-bc04-4f4cb7daa693",
   "metadata": {},
   "outputs": [],
   "source": [
    "import numpy as np\n",
    "import pandas as pd\n",
    "import matplotlib.pyplot as plt\n",
    "import seaborn as sns"
   ]
  },
  {
   "cell_type": "code",
   "execution_count": 3,
   "id": "48be5778-903e-4190-9c79-5e4ab1df2edd",
   "metadata": {},
   "outputs": [
    {
     "name": "stderr",
     "output_type": "stream",
     "text": [
      "C:\\Users\\Aniruddha\\AppData\\Local\\Temp\\ipykernel_21180\\2375939763.py:1: DtypeWarning: Columns (47) have mixed types. Specify dtype option on import or set low_memory=False.\n",
      "  df = pd.read_csv('loan/loan.csv', header=0)\n"
     ]
    },
    {
     "data": {
      "text/html": [
       "<div>\n",
       "<style scoped>\n",
       "    .dataframe tbody tr th:only-of-type {\n",
       "        vertical-align: middle;\n",
       "    }\n",
       "\n",
       "    .dataframe tbody tr th {\n",
       "        vertical-align: top;\n",
       "    }\n",
       "\n",
       "    .dataframe thead th {\n",
       "        text-align: right;\n",
       "    }\n",
       "</style>\n",
       "<table border=\"1\" class=\"dataframe\">\n",
       "  <thead>\n",
       "    <tr style=\"text-align: right;\">\n",
       "      <th></th>\n",
       "      <th>id</th>\n",
       "      <th>member_id</th>\n",
       "      <th>loan_amnt</th>\n",
       "      <th>funded_amnt</th>\n",
       "      <th>funded_amnt_inv</th>\n",
       "      <th>term</th>\n",
       "      <th>int_rate</th>\n",
       "      <th>installment</th>\n",
       "      <th>grade</th>\n",
       "      <th>sub_grade</th>\n",
       "      <th>...</th>\n",
       "      <th>num_tl_90g_dpd_24m</th>\n",
       "      <th>num_tl_op_past_12m</th>\n",
       "      <th>pct_tl_nvr_dlq</th>\n",
       "      <th>percent_bc_gt_75</th>\n",
       "      <th>pub_rec_bankruptcies</th>\n",
       "      <th>tax_liens</th>\n",
       "      <th>tot_hi_cred_lim</th>\n",
       "      <th>total_bal_ex_mort</th>\n",
       "      <th>total_bc_limit</th>\n",
       "      <th>total_il_high_credit_limit</th>\n",
       "    </tr>\n",
       "  </thead>\n",
       "  <tbody>\n",
       "    <tr>\n",
       "      <th>0</th>\n",
       "      <td>1077501</td>\n",
       "      <td>1296599</td>\n",
       "      <td>5000</td>\n",
       "      <td>5000</td>\n",
       "      <td>4975.0</td>\n",
       "      <td>36 months</td>\n",
       "      <td>10.65%</td>\n",
       "      <td>162.87</td>\n",
       "      <td>B</td>\n",
       "      <td>B2</td>\n",
       "      <td>...</td>\n",
       "      <td>NaN</td>\n",
       "      <td>NaN</td>\n",
       "      <td>NaN</td>\n",
       "      <td>NaN</td>\n",
       "      <td>0.0</td>\n",
       "      <td>0.0</td>\n",
       "      <td>NaN</td>\n",
       "      <td>NaN</td>\n",
       "      <td>NaN</td>\n",
       "      <td>NaN</td>\n",
       "    </tr>\n",
       "    <tr>\n",
       "      <th>1</th>\n",
       "      <td>1077430</td>\n",
       "      <td>1314167</td>\n",
       "      <td>2500</td>\n",
       "      <td>2500</td>\n",
       "      <td>2500.0</td>\n",
       "      <td>60 months</td>\n",
       "      <td>15.27%</td>\n",
       "      <td>59.83</td>\n",
       "      <td>C</td>\n",
       "      <td>C4</td>\n",
       "      <td>...</td>\n",
       "      <td>NaN</td>\n",
       "      <td>NaN</td>\n",
       "      <td>NaN</td>\n",
       "      <td>NaN</td>\n",
       "      <td>0.0</td>\n",
       "      <td>0.0</td>\n",
       "      <td>NaN</td>\n",
       "      <td>NaN</td>\n",
       "      <td>NaN</td>\n",
       "      <td>NaN</td>\n",
       "    </tr>\n",
       "    <tr>\n",
       "      <th>2</th>\n",
       "      <td>1077175</td>\n",
       "      <td>1313524</td>\n",
       "      <td>2400</td>\n",
       "      <td>2400</td>\n",
       "      <td>2400.0</td>\n",
       "      <td>36 months</td>\n",
       "      <td>15.96%</td>\n",
       "      <td>84.33</td>\n",
       "      <td>C</td>\n",
       "      <td>C5</td>\n",
       "      <td>...</td>\n",
       "      <td>NaN</td>\n",
       "      <td>NaN</td>\n",
       "      <td>NaN</td>\n",
       "      <td>NaN</td>\n",
       "      <td>0.0</td>\n",
       "      <td>0.0</td>\n",
       "      <td>NaN</td>\n",
       "      <td>NaN</td>\n",
       "      <td>NaN</td>\n",
       "      <td>NaN</td>\n",
       "    </tr>\n",
       "    <tr>\n",
       "      <th>3</th>\n",
       "      <td>1076863</td>\n",
       "      <td>1277178</td>\n",
       "      <td>10000</td>\n",
       "      <td>10000</td>\n",
       "      <td>10000.0</td>\n",
       "      <td>36 months</td>\n",
       "      <td>13.49%</td>\n",
       "      <td>339.31</td>\n",
       "      <td>C</td>\n",
       "      <td>C1</td>\n",
       "      <td>...</td>\n",
       "      <td>NaN</td>\n",
       "      <td>NaN</td>\n",
       "      <td>NaN</td>\n",
       "      <td>NaN</td>\n",
       "      <td>0.0</td>\n",
       "      <td>0.0</td>\n",
       "      <td>NaN</td>\n",
       "      <td>NaN</td>\n",
       "      <td>NaN</td>\n",
       "      <td>NaN</td>\n",
       "    </tr>\n",
       "    <tr>\n",
       "      <th>4</th>\n",
       "      <td>1075358</td>\n",
       "      <td>1311748</td>\n",
       "      <td>3000</td>\n",
       "      <td>3000</td>\n",
       "      <td>3000.0</td>\n",
       "      <td>60 months</td>\n",
       "      <td>12.69%</td>\n",
       "      <td>67.79</td>\n",
       "      <td>B</td>\n",
       "      <td>B5</td>\n",
       "      <td>...</td>\n",
       "      <td>NaN</td>\n",
       "      <td>NaN</td>\n",
       "      <td>NaN</td>\n",
       "      <td>NaN</td>\n",
       "      <td>0.0</td>\n",
       "      <td>0.0</td>\n",
       "      <td>NaN</td>\n",
       "      <td>NaN</td>\n",
       "      <td>NaN</td>\n",
       "      <td>NaN</td>\n",
       "    </tr>\n",
       "  </tbody>\n",
       "</table>\n",
       "<p>5 rows × 111 columns</p>\n",
       "</div>"
      ],
      "text/plain": [
       "        id  member_id  loan_amnt  funded_amnt  funded_amnt_inv        term  \\\n",
       "0  1077501    1296599       5000         5000           4975.0   36 months   \n",
       "1  1077430    1314167       2500         2500           2500.0   60 months   \n",
       "2  1077175    1313524       2400         2400           2400.0   36 months   \n",
       "3  1076863    1277178      10000        10000          10000.0   36 months   \n",
       "4  1075358    1311748       3000         3000           3000.0   60 months   \n",
       "\n",
       "  int_rate  installment grade sub_grade  ... num_tl_90g_dpd_24m  \\\n",
       "0   10.65%       162.87     B        B2  ...                NaN   \n",
       "1   15.27%        59.83     C        C4  ...                NaN   \n",
       "2   15.96%        84.33     C        C5  ...                NaN   \n",
       "3   13.49%       339.31     C        C1  ...                NaN   \n",
       "4   12.69%        67.79     B        B5  ...                NaN   \n",
       "\n",
       "  num_tl_op_past_12m pct_tl_nvr_dlq  percent_bc_gt_75 pub_rec_bankruptcies  \\\n",
       "0                NaN            NaN               NaN                  0.0   \n",
       "1                NaN            NaN               NaN                  0.0   \n",
       "2                NaN            NaN               NaN                  0.0   \n",
       "3                NaN            NaN               NaN                  0.0   \n",
       "4                NaN            NaN               NaN                  0.0   \n",
       "\n",
       "  tax_liens tot_hi_cred_lim total_bal_ex_mort total_bc_limit  \\\n",
       "0       0.0             NaN               NaN            NaN   \n",
       "1       0.0             NaN               NaN            NaN   \n",
       "2       0.0             NaN               NaN            NaN   \n",
       "3       0.0             NaN               NaN            NaN   \n",
       "4       0.0             NaN               NaN            NaN   \n",
       "\n",
       "  total_il_high_credit_limit  \n",
       "0                        NaN  \n",
       "1                        NaN  \n",
       "2                        NaN  \n",
       "3                        NaN  \n",
       "4                        NaN  \n",
       "\n",
       "[5 rows x 111 columns]"
      ]
     },
     "execution_count": 3,
     "metadata": {},
     "output_type": "execute_result"
    }
   ],
   "source": [
    "df = pd.read_csv('loan/loan.csv', header=0)\n",
    "# Describe whole dataset\n",
    "df.head()"
   ]
  },
  {
   "cell_type": "code",
   "execution_count": 4,
   "id": "6e5f6fb5-29fb-41c7-87a5-f9d78f7846cc",
   "metadata": {},
   "outputs": [
    {
     "data": {
      "text/plain": [
       "(39717, 111)"
      ]
     },
     "execution_count": 4,
     "metadata": {},
     "output_type": "execute_result"
    }
   ],
   "source": [
    "df.shape"
   ]
  },
  {
   "cell_type": "code",
   "execution_count": 5,
   "id": "8ac40124-d236-403a-b596-0db73311afa1",
   "metadata": {},
   "outputs": [
    {
     "name": "stdout",
     "output_type": "stream",
     "text": [
      "<class 'pandas.core.frame.DataFrame'>\n",
      "RangeIndex: 39717 entries, 0 to 39716\n",
      "Columns: 111 entries, id to total_il_high_credit_limit\n",
      "dtypes: float64(74), int64(13), object(24)\n",
      "memory usage: 33.6+ MB\n"
     ]
    }
   ],
   "source": [
    "df.info()"
   ]
  },
  {
   "cell_type": "code",
   "execution_count": 6,
   "id": "c5f0a1f0-2bd7-4d23-b0a6-63d0c64335e2",
   "metadata": {},
   "outputs": [
    {
     "name": "stdout",
     "output_type": "stream",
     "text": [
      "0\n"
     ]
    }
   ],
   "source": [
    "print(df.isnull().all(axis=1).sum())"
   ]
  },
  {
   "cell_type": "code",
   "execution_count": 7,
   "id": "3b58f1ff-0d23-4a92-bc28-54e5461a03ee",
   "metadata": {},
   "outputs": [
    {
     "name": "stdout",
     "output_type": "stream",
     "text": [
      "1\n",
      "0\n",
      "0\n",
      "1\n",
      "1\n",
      "20\n"
     ]
    }
   ],
   "source": [
    "print(df.iloc[:,50].isnull().all(axis=0).sum())\n",
    "print(df.iloc[:,51].isnull().all(axis=0).sum())\n",
    "print(df.iloc[:,52].isnull().all(axis=0).sum())\n",
    "print(df.iloc[:,53].isnull().all(axis=0).sum())\n",
    "print(df.iloc[:,90].isnull().all(axis=0).sum())\n",
    "print(df.iloc[:,80:100].isnull().all(axis=0).sum())"
   ]
  },
  {
   "cell_type": "code",
   "execution_count": 8,
   "id": "cd21eb65-0d1a-42d7-8e9d-2b127d074c70",
   "metadata": {},
   "outputs": [],
   "source": [
    "df.drop(df.iloc[:,80:100], inplace=True, axis=1)\n",
    "df.drop(df.iloc[:,57:78], inplace=True, axis=1)\n",
    "df.drop(df.iloc[:,53:56], inplace=True, axis=1)\n",
    "df.drop(df.iloc[:,50:51], inplace=True, axis=1)"
   ]
  },
  {
   "cell_type": "code",
   "execution_count": 9,
   "id": "b8386898-6502-4e63-bff9-ac8d8dd8875f",
   "metadata": {},
   "outputs": [
    {
     "name": "stdout",
     "output_type": "stream",
     "text": [
      "5\n",
      "0\n",
      "3\n",
      "12940\n",
      "2459\n",
      "36931\n"
     ]
    }
   ],
   "source": [
    "print(df.iloc[:,55:60].isnull().all(axis=0).sum())\n",
    "print(df.iloc[:,60:61].isnull().all(axis=0).sum())\n",
    "print(df.iloc[:,57:60].isnull().all(axis=0).sum())\n",
    "print(df.desc.isnull().sum())\n",
    "print(df.emp_title.isnull().sum())\n",
    "print(df.mths_since_last_record.isnull().sum())"
   ]
  },
  {
   "cell_type": "code",
   "execution_count": 10,
   "id": "b271bc9f-2670-4651-bbcd-1f156c99b21b",
   "metadata": {},
   "outputs": [],
   "source": [
    "df.drop(df.iloc[:,55:60], inplace=True, axis=1)\n",
    "df.drop(df.iloc[:,60:61], inplace=True, axis=1)\n",
    "df.drop(df.iloc[:,57:60], inplace=True, axis=1)\n",
    "df.drop(['desc'], inplace=True, axis=1)\n",
    "df.drop(['emp_title'], inplace=True, axis=1)\n",
    "df.drop(['mths_since_last_record'], inplace=True, axis=1)\n",
    "df.drop(['tax_liens', 'pub_rec_bankruptcies', 'delinq_amnt', 'chargeoff_within_12_mths', 'acc_now_delinq', 'collections_12_mths_ex_med', 'last_credit_pull_d', \n",
    "         'next_pymnt_d', 'total_pymnt_inv', 'total_rec_prncp', 'total_rec_int', 'total_rec_late_fee', 'recoveries', 'collection_recovery_fee', 'collection_recovery_fee',\n",
    "        'last_pymnt_d', 'last_pymnt_amnt', 'last_credit_pull_d', 'application_type', 'policy_code', 'pymnt_plan', 'installment', 'initial_list_status'], inplace=True, axis=1)"
   ]
  },
  {
   "cell_type": "code",
   "execution_count": 11,
   "id": "8648209b-ec4c-42ac-a656-a87c1ae05322",
   "metadata": {},
   "outputs": [
    {
     "data": {
      "text/plain": [
       "0"
      ]
     },
     "execution_count": 11,
     "metadata": {},
     "output_type": "execute_result"
    }
   ],
   "source": [
    "df.isnull().all(axis=0).sum()"
   ]
  },
  {
   "cell_type": "code",
   "execution_count": 12,
   "id": "73526add-bcd1-4d86-8ad9-70793b92ae4c",
   "metadata": {},
   "outputs": [],
   "source": [
    "df.emp_length.fillna('0',inplace=True)"
   ]
  },
  {
   "cell_type": "code",
   "execution_count": 13,
   "id": "1269f668-aa47-4fdb-876b-b8921f0093f6",
   "metadata": {},
   "outputs": [],
   "source": [
    "def remove_characters(x):\n",
    "    return ''.join(filter(str.isdigit, str(x)))\n",
    "\n",
    "df.emp_length = df.emp_length.apply(lambda x : remove_characters(x))"
   ]
  },
  {
   "cell_type": "code",
   "execution_count": 14,
   "id": "68d5efdd-2eea-4ad9-98d8-f8a959de88b3",
   "metadata": {},
   "outputs": [],
   "source": [
    "df.int_rate = df.int_rate.apply(lambda x: x.replace('%', '')).astype('float')"
   ]
  },
  {
   "cell_type": "code",
   "execution_count": 15,
   "id": "94a0bd25-d544-4896-b22a-cfbe39b5c5ab",
   "metadata": {},
   "outputs": [],
   "source": [
    "df.term = df.term.apply(lambda x: x.replace('months', '')).astype('int')"
   ]
  },
  {
   "cell_type": "code",
   "execution_count": 16,
   "id": "4a93ad32-41ce-4de4-9ce5-be4ae8866a04",
   "metadata": {},
   "outputs": [
    {
     "data": {
      "text/plain": [
       "(39717, 33)"
      ]
     },
     "execution_count": 16,
     "metadata": {},
     "output_type": "execute_result"
    }
   ],
   "source": [
    "df.shape"
   ]
  },
  {
   "cell_type": "code",
   "execution_count": 17,
   "id": "5dced41a-d013-4fc6-b473-954199849089",
   "metadata": {},
   "outputs": [
    {
     "data": {
      "text/html": [
       "<div>\n",
       "<style scoped>\n",
       "    .dataframe tbody tr th:only-of-type {\n",
       "        vertical-align: middle;\n",
       "    }\n",
       "\n",
       "    .dataframe tbody tr th {\n",
       "        vertical-align: top;\n",
       "    }\n",
       "\n",
       "    .dataframe thead th {\n",
       "        text-align: right;\n",
       "    }\n",
       "</style>\n",
       "<table border=\"1\" class=\"dataframe\">\n",
       "  <thead>\n",
       "    <tr style=\"text-align: right;\">\n",
       "      <th></th>\n",
       "      <th>id</th>\n",
       "      <th>member_id</th>\n",
       "      <th>loan_amnt</th>\n",
       "      <th>funded_amnt</th>\n",
       "      <th>funded_amnt_inv</th>\n",
       "      <th>term</th>\n",
       "      <th>int_rate</th>\n",
       "      <th>grade</th>\n",
       "      <th>sub_grade</th>\n",
       "      <th>emp_length</th>\n",
       "      <th>...</th>\n",
       "      <th>inq_last_6mths</th>\n",
       "      <th>mths_since_last_delinq</th>\n",
       "      <th>open_acc</th>\n",
       "      <th>pub_rec</th>\n",
       "      <th>revol_bal</th>\n",
       "      <th>revol_util</th>\n",
       "      <th>total_acc</th>\n",
       "      <th>out_prncp</th>\n",
       "      <th>out_prncp_inv</th>\n",
       "      <th>total_pymnt</th>\n",
       "    </tr>\n",
       "  </thead>\n",
       "  <tbody>\n",
       "    <tr>\n",
       "      <th>0</th>\n",
       "      <td>1077501</td>\n",
       "      <td>1296599</td>\n",
       "      <td>5000</td>\n",
       "      <td>5000</td>\n",
       "      <td>4975.0</td>\n",
       "      <td>36</td>\n",
       "      <td>10.65</td>\n",
       "      <td>B</td>\n",
       "      <td>B2</td>\n",
       "      <td>10</td>\n",
       "      <td>...</td>\n",
       "      <td>1</td>\n",
       "      <td>NaN</td>\n",
       "      <td>3</td>\n",
       "      <td>0</td>\n",
       "      <td>13648</td>\n",
       "      <td>83.70%</td>\n",
       "      <td>9</td>\n",
       "      <td>0.00</td>\n",
       "      <td>0.00</td>\n",
       "      <td>5863.155187</td>\n",
       "    </tr>\n",
       "    <tr>\n",
       "      <th>1</th>\n",
       "      <td>1077430</td>\n",
       "      <td>1314167</td>\n",
       "      <td>2500</td>\n",
       "      <td>2500</td>\n",
       "      <td>2500.0</td>\n",
       "      <td>60</td>\n",
       "      <td>15.27</td>\n",
       "      <td>C</td>\n",
       "      <td>C4</td>\n",
       "      <td>1</td>\n",
       "      <td>...</td>\n",
       "      <td>5</td>\n",
       "      <td>NaN</td>\n",
       "      <td>3</td>\n",
       "      <td>0</td>\n",
       "      <td>1687</td>\n",
       "      <td>9.40%</td>\n",
       "      <td>4</td>\n",
       "      <td>0.00</td>\n",
       "      <td>0.00</td>\n",
       "      <td>1008.710000</td>\n",
       "    </tr>\n",
       "    <tr>\n",
       "      <th>2</th>\n",
       "      <td>1077175</td>\n",
       "      <td>1313524</td>\n",
       "      <td>2400</td>\n",
       "      <td>2400</td>\n",
       "      <td>2400.0</td>\n",
       "      <td>36</td>\n",
       "      <td>15.96</td>\n",
       "      <td>C</td>\n",
       "      <td>C5</td>\n",
       "      <td>10</td>\n",
       "      <td>...</td>\n",
       "      <td>2</td>\n",
       "      <td>NaN</td>\n",
       "      <td>2</td>\n",
       "      <td>0</td>\n",
       "      <td>2956</td>\n",
       "      <td>98.50%</td>\n",
       "      <td>10</td>\n",
       "      <td>0.00</td>\n",
       "      <td>0.00</td>\n",
       "      <td>3005.666844</td>\n",
       "    </tr>\n",
       "    <tr>\n",
       "      <th>3</th>\n",
       "      <td>1076863</td>\n",
       "      <td>1277178</td>\n",
       "      <td>10000</td>\n",
       "      <td>10000</td>\n",
       "      <td>10000.0</td>\n",
       "      <td>36</td>\n",
       "      <td>13.49</td>\n",
       "      <td>C</td>\n",
       "      <td>C1</td>\n",
       "      <td>10</td>\n",
       "      <td>...</td>\n",
       "      <td>1</td>\n",
       "      <td>35.0</td>\n",
       "      <td>10</td>\n",
       "      <td>0</td>\n",
       "      <td>5598</td>\n",
       "      <td>21%</td>\n",
       "      <td>37</td>\n",
       "      <td>0.00</td>\n",
       "      <td>0.00</td>\n",
       "      <td>12231.890000</td>\n",
       "    </tr>\n",
       "    <tr>\n",
       "      <th>4</th>\n",
       "      <td>1075358</td>\n",
       "      <td>1311748</td>\n",
       "      <td>3000</td>\n",
       "      <td>3000</td>\n",
       "      <td>3000.0</td>\n",
       "      <td>60</td>\n",
       "      <td>12.69</td>\n",
       "      <td>B</td>\n",
       "      <td>B5</td>\n",
       "      <td>1</td>\n",
       "      <td>...</td>\n",
       "      <td>0</td>\n",
       "      <td>38.0</td>\n",
       "      <td>15</td>\n",
       "      <td>0</td>\n",
       "      <td>27783</td>\n",
       "      <td>53.90%</td>\n",
       "      <td>38</td>\n",
       "      <td>524.06</td>\n",
       "      <td>524.06</td>\n",
       "      <td>3513.330000</td>\n",
       "    </tr>\n",
       "  </tbody>\n",
       "</table>\n",
       "<p>5 rows × 33 columns</p>\n",
       "</div>"
      ],
      "text/plain": [
       "        id  member_id  loan_amnt  funded_amnt  funded_amnt_inv  term  \\\n",
       "0  1077501    1296599       5000         5000           4975.0    36   \n",
       "1  1077430    1314167       2500         2500           2500.0    60   \n",
       "2  1077175    1313524       2400         2400           2400.0    36   \n",
       "3  1076863    1277178      10000        10000          10000.0    36   \n",
       "4  1075358    1311748       3000         3000           3000.0    60   \n",
       "\n",
       "   int_rate grade sub_grade emp_length  ... inq_last_6mths  \\\n",
       "0     10.65     B        B2         10  ...              1   \n",
       "1     15.27     C        C4          1  ...              5   \n",
       "2     15.96     C        C5         10  ...              2   \n",
       "3     13.49     C        C1         10  ...              1   \n",
       "4     12.69     B        B5          1  ...              0   \n",
       "\n",
       "   mths_since_last_delinq open_acc pub_rec revol_bal revol_util total_acc  \\\n",
       "0                     NaN        3       0     13648     83.70%         9   \n",
       "1                     NaN        3       0      1687      9.40%         4   \n",
       "2                     NaN        2       0      2956     98.50%        10   \n",
       "3                    35.0       10       0      5598        21%        37   \n",
       "4                    38.0       15       0     27783     53.90%        38   \n",
       "\n",
       "  out_prncp out_prncp_inv   total_pymnt  \n",
       "0      0.00          0.00   5863.155187  \n",
       "1      0.00          0.00   1008.710000  \n",
       "2      0.00          0.00   3005.666844  \n",
       "3      0.00          0.00  12231.890000  \n",
       "4    524.06        524.06   3513.330000  \n",
       "\n",
       "[5 rows x 33 columns]"
      ]
     },
     "execution_count": 17,
     "metadata": {},
     "output_type": "execute_result"
    }
   ],
   "source": [
    "df.head()"
   ]
  },
  {
   "cell_type": "code",
   "execution_count": 18,
   "id": "8a22c2e5-8bcc-4567-9196-8217cc3c6e66",
   "metadata": {},
   "outputs": [
    {
     "data": {
      "text/plain": [
       "(38577, 33)"
      ]
     },
     "execution_count": 18,
     "metadata": {},
     "output_type": "execute_result"
    }
   ],
   "source": [
    "df_not_current = df[df.loan_status != 'Current']\n",
    "df_not_current.shape"
   ]
  },
  {
   "cell_type": "code",
   "execution_count": 19,
   "id": "e29a16e3-0ec7-4a12-8d5c-afa2ba48a7fb",
   "metadata": {},
   "outputs": [
    {
     "name": "stderr",
     "output_type": "stream",
     "text": [
      "C:\\Users\\Aniruddha\\AppData\\Local\\Temp\\ipykernel_21180\\3452782461.py:7: SettingWithCopyWarning: \n",
      "A value is trying to be set on a copy of a slice from a DataFrame.\n",
      "Try using .loc[row_indexer,col_indexer] = value instead\n",
      "\n",
      "See the caveats in the documentation: https://pandas.pydata.org/pandas-docs/stable/user_guide/indexing.html#returning-a-view-versus-a-copy\n",
      "  df_not_current['loan_status_int'] = df_not_current['loan_status'].apply(lambda x: convert_loan_status_to_int(x))\n"
     ]
    }
   ],
   "source": [
    "def convert_loan_status_to_int(x):\n",
    "    if x == \"Fully Paid\":\n",
    "        return 1\n",
    "    else:\n",
    "        return 0\n",
    "    \n",
    "df_not_current['loan_status_int'] = df_not_current['loan_status'].apply(lambda x: convert_loan_status_to_int(x))"
   ]
  },
  {
   "cell_type": "code",
   "execution_count": 20,
   "id": "d74cb16f-9e37-4f4e-a7ca-c4ed758c64ef",
   "metadata": {},
   "outputs": [
    {
     "data": {
      "text/html": [
       "<div>\n",
       "<style scoped>\n",
       "    .dataframe tbody tr th:only-of-type {\n",
       "        vertical-align: middle;\n",
       "    }\n",
       "\n",
       "    .dataframe tbody tr th {\n",
       "        vertical-align: top;\n",
       "    }\n",
       "\n",
       "    .dataframe thead th {\n",
       "        text-align: right;\n",
       "    }\n",
       "</style>\n",
       "<table border=\"1\" class=\"dataframe\">\n",
       "  <thead>\n",
       "    <tr style=\"text-align: right;\">\n",
       "      <th></th>\n",
       "      <th>id</th>\n",
       "      <th>member_id</th>\n",
       "      <th>loan_amnt</th>\n",
       "      <th>funded_amnt</th>\n",
       "      <th>funded_amnt_inv</th>\n",
       "      <th>term</th>\n",
       "      <th>int_rate</th>\n",
       "      <th>grade</th>\n",
       "      <th>sub_grade</th>\n",
       "      <th>emp_length</th>\n",
       "      <th>...</th>\n",
       "      <th>mths_since_last_delinq</th>\n",
       "      <th>open_acc</th>\n",
       "      <th>pub_rec</th>\n",
       "      <th>revol_bal</th>\n",
       "      <th>revol_util</th>\n",
       "      <th>total_acc</th>\n",
       "      <th>out_prncp</th>\n",
       "      <th>out_prncp_inv</th>\n",
       "      <th>total_pymnt</th>\n",
       "      <th>loan_status_int</th>\n",
       "    </tr>\n",
       "  </thead>\n",
       "  <tbody>\n",
       "    <tr>\n",
       "      <th>0</th>\n",
       "      <td>1077501</td>\n",
       "      <td>1296599</td>\n",
       "      <td>5000</td>\n",
       "      <td>5000</td>\n",
       "      <td>4975.0</td>\n",
       "      <td>36</td>\n",
       "      <td>10.65</td>\n",
       "      <td>B</td>\n",
       "      <td>B2</td>\n",
       "      <td>10</td>\n",
       "      <td>...</td>\n",
       "      <td>NaN</td>\n",
       "      <td>3</td>\n",
       "      <td>0</td>\n",
       "      <td>13648</td>\n",
       "      <td>83.70%</td>\n",
       "      <td>9</td>\n",
       "      <td>0.0</td>\n",
       "      <td>0.0</td>\n",
       "      <td>5863.155187</td>\n",
       "      <td>1</td>\n",
       "    </tr>\n",
       "    <tr>\n",
       "      <th>1</th>\n",
       "      <td>1077430</td>\n",
       "      <td>1314167</td>\n",
       "      <td>2500</td>\n",
       "      <td>2500</td>\n",
       "      <td>2500.0</td>\n",
       "      <td>60</td>\n",
       "      <td>15.27</td>\n",
       "      <td>C</td>\n",
       "      <td>C4</td>\n",
       "      <td>1</td>\n",
       "      <td>...</td>\n",
       "      <td>NaN</td>\n",
       "      <td>3</td>\n",
       "      <td>0</td>\n",
       "      <td>1687</td>\n",
       "      <td>9.40%</td>\n",
       "      <td>4</td>\n",
       "      <td>0.0</td>\n",
       "      <td>0.0</td>\n",
       "      <td>1008.710000</td>\n",
       "      <td>0</td>\n",
       "    </tr>\n",
       "    <tr>\n",
       "      <th>2</th>\n",
       "      <td>1077175</td>\n",
       "      <td>1313524</td>\n",
       "      <td>2400</td>\n",
       "      <td>2400</td>\n",
       "      <td>2400.0</td>\n",
       "      <td>36</td>\n",
       "      <td>15.96</td>\n",
       "      <td>C</td>\n",
       "      <td>C5</td>\n",
       "      <td>10</td>\n",
       "      <td>...</td>\n",
       "      <td>NaN</td>\n",
       "      <td>2</td>\n",
       "      <td>0</td>\n",
       "      <td>2956</td>\n",
       "      <td>98.50%</td>\n",
       "      <td>10</td>\n",
       "      <td>0.0</td>\n",
       "      <td>0.0</td>\n",
       "      <td>3005.666844</td>\n",
       "      <td>1</td>\n",
       "    </tr>\n",
       "    <tr>\n",
       "      <th>3</th>\n",
       "      <td>1076863</td>\n",
       "      <td>1277178</td>\n",
       "      <td>10000</td>\n",
       "      <td>10000</td>\n",
       "      <td>10000.0</td>\n",
       "      <td>36</td>\n",
       "      <td>13.49</td>\n",
       "      <td>C</td>\n",
       "      <td>C1</td>\n",
       "      <td>10</td>\n",
       "      <td>...</td>\n",
       "      <td>35.0</td>\n",
       "      <td>10</td>\n",
       "      <td>0</td>\n",
       "      <td>5598</td>\n",
       "      <td>21%</td>\n",
       "      <td>37</td>\n",
       "      <td>0.0</td>\n",
       "      <td>0.0</td>\n",
       "      <td>12231.890000</td>\n",
       "      <td>1</td>\n",
       "    </tr>\n",
       "    <tr>\n",
       "      <th>5</th>\n",
       "      <td>1075269</td>\n",
       "      <td>1311441</td>\n",
       "      <td>5000</td>\n",
       "      <td>5000</td>\n",
       "      <td>5000.0</td>\n",
       "      <td>36</td>\n",
       "      <td>7.90</td>\n",
       "      <td>A</td>\n",
       "      <td>A4</td>\n",
       "      <td>3</td>\n",
       "      <td>...</td>\n",
       "      <td>NaN</td>\n",
       "      <td>9</td>\n",
       "      <td>0</td>\n",
       "      <td>7963</td>\n",
       "      <td>28.30%</td>\n",
       "      <td>12</td>\n",
       "      <td>0.0</td>\n",
       "      <td>0.0</td>\n",
       "      <td>5632.210000</td>\n",
       "      <td>1</td>\n",
       "    </tr>\n",
       "  </tbody>\n",
       "</table>\n",
       "<p>5 rows × 34 columns</p>\n",
       "</div>"
      ],
      "text/plain": [
       "        id  member_id  loan_amnt  funded_amnt  funded_amnt_inv  term  \\\n",
       "0  1077501    1296599       5000         5000           4975.0    36   \n",
       "1  1077430    1314167       2500         2500           2500.0    60   \n",
       "2  1077175    1313524       2400         2400           2400.0    36   \n",
       "3  1076863    1277178      10000        10000          10000.0    36   \n",
       "5  1075269    1311441       5000         5000           5000.0    36   \n",
       "\n",
       "   int_rate grade sub_grade emp_length  ... mths_since_last_delinq  open_acc  \\\n",
       "0     10.65     B        B2         10  ...                    NaN         3   \n",
       "1     15.27     C        C4          1  ...                    NaN         3   \n",
       "2     15.96     C        C5         10  ...                    NaN         2   \n",
       "3     13.49     C        C1         10  ...                   35.0        10   \n",
       "5      7.90     A        A4          3  ...                    NaN         9   \n",
       "\n",
       "  pub_rec revol_bal revol_util total_acc out_prncp out_prncp_inv  \\\n",
       "0       0     13648     83.70%         9       0.0           0.0   \n",
       "1       0      1687      9.40%         4       0.0           0.0   \n",
       "2       0      2956     98.50%        10       0.0           0.0   \n",
       "3       0      5598        21%        37       0.0           0.0   \n",
       "5       0      7963     28.30%        12       0.0           0.0   \n",
       "\n",
       "    total_pymnt loan_status_int  \n",
       "0   5863.155187               1  \n",
       "1   1008.710000               0  \n",
       "2   3005.666844               1  \n",
       "3  12231.890000               1  \n",
       "5   5632.210000               1  \n",
       "\n",
       "[5 rows x 34 columns]"
      ]
     },
     "execution_count": 20,
     "metadata": {},
     "output_type": "execute_result"
    }
   ],
   "source": [
    "df_not_current.head()"
   ]
  },
  {
   "cell_type": "code",
   "execution_count": 21,
   "id": "c901cfb7-0646-4643-97fb-7a9ff9aaec15",
   "metadata": {},
   "outputs": [
    {
     "data": {
      "text/plain": [
       "id                            0\n",
       "member_id                     0\n",
       "loan_amnt                     0\n",
       "funded_amnt                   0\n",
       "funded_amnt_inv               0\n",
       "term                          0\n",
       "int_rate                      0\n",
       "grade                         0\n",
       "sub_grade                     0\n",
       "emp_length                    0\n",
       "home_ownership                0\n",
       "annual_inc                    0\n",
       "verification_status           0\n",
       "issue_d                       0\n",
       "loan_status                   0\n",
       "url                           0\n",
       "purpose                       0\n",
       "title                        11\n",
       "zip_code                      0\n",
       "addr_state                    0\n",
       "dti                           0\n",
       "delinq_2yrs                   0\n",
       "earliest_cr_line              0\n",
       "inq_last_6mths                0\n",
       "mths_since_last_delinq    24905\n",
       "open_acc                      0\n",
       "pub_rec                       0\n",
       "revol_bal                     0\n",
       "revol_util                   50\n",
       "total_acc                     0\n",
       "out_prncp                     0\n",
       "out_prncp_inv                 0\n",
       "total_pymnt                   0\n",
       "loan_status_int               0\n",
       "dtype: int64"
      ]
     },
     "execution_count": 21,
     "metadata": {},
     "output_type": "execute_result"
    }
   ],
   "source": [
    "df_not_current.isna().sum()"
   ]
  },
  {
   "cell_type": "code",
   "execution_count": 22,
   "id": "ccd8cff2-fb14-4c0f-a4f6-acf5898e63e0",
   "metadata": {},
   "outputs": [
    {
     "name": "stderr",
     "output_type": "stream",
     "text": [
      "C:\\Users\\Aniruddha\\AppData\\Local\\Temp\\ipykernel_21180\\2284896794.py:1: SettingWithCopyWarning: \n",
      "A value is trying to be set on a copy of a slice from a DataFrame\n",
      "\n",
      "See the caveats in the documentation: https://pandas.pydata.org/pandas-docs/stable/user_guide/indexing.html#returning-a-view-versus-a-copy\n",
      "  df_not_current.drop(['mths_since_last_delinq'], inplace=True, axis = 1)\n"
     ]
    }
   ],
   "source": [
    "df_not_current.drop(['mths_since_last_delinq'], inplace=True, axis = 1)"
   ]
  },
  {
   "cell_type": "code",
   "execution_count": 26,
   "id": "211dc6f8-b180-4f5c-9070-85053ad3132e",
   "metadata": {},
   "outputs": [
    {
     "data": {
      "text/html": [
       "<div>\n",
       "<style scoped>\n",
       "    .dataframe tbody tr th:only-of-type {\n",
       "        vertical-align: middle;\n",
       "    }\n",
       "\n",
       "    .dataframe tbody tr th {\n",
       "        vertical-align: top;\n",
       "    }\n",
       "\n",
       "    .dataframe thead tr th {\n",
       "        text-align: left;\n",
       "    }\n",
       "\n",
       "    .dataframe thead tr:last-of-type th {\n",
       "        text-align: right;\n",
       "    }\n",
       "</style>\n",
       "<table border=\"1\" class=\"dataframe\">\n",
       "  <thead>\n",
       "    <tr>\n",
       "      <th></th>\n",
       "      <th colspan=\"2\" halign=\"left\">sub_grade</th>\n",
       "    </tr>\n",
       "    <tr>\n",
       "      <th>loan_status</th>\n",
       "      <th>Charged Off</th>\n",
       "      <th>Fully Paid</th>\n",
       "    </tr>\n",
       "    <tr>\n",
       "      <th>sub_grade</th>\n",
       "      <th></th>\n",
       "      <th></th>\n",
       "    </tr>\n",
       "  </thead>\n",
       "  <tbody>\n",
       "    <tr>\n",
       "      <th>A1</th>\n",
       "      <td>2.63</td>\n",
       "      <td>97.37</td>\n",
       "    </tr>\n",
       "    <tr>\n",
       "      <th>A2</th>\n",
       "      <td>4.91</td>\n",
       "      <td>95.09</td>\n",
       "    </tr>\n",
       "    <tr>\n",
       "      <th>A3</th>\n",
       "      <td>5.69</td>\n",
       "      <td>94.31</td>\n",
       "    </tr>\n",
       "    <tr>\n",
       "      <th>A4</th>\n",
       "      <td>6.20</td>\n",
       "      <td>93.80</td>\n",
       "    </tr>\n",
       "    <tr>\n",
       "      <th>A5</th>\n",
       "      <td>7.99</td>\n",
       "      <td>92.01</td>\n",
       "    </tr>\n",
       "    <tr>\n",
       "      <th>B1</th>\n",
       "      <td>9.52</td>\n",
       "      <td>90.48</td>\n",
       "    </tr>\n",
       "    <tr>\n",
       "      <th>B2</th>\n",
       "      <td>11.39</td>\n",
       "      <td>88.61</td>\n",
       "    </tr>\n",
       "    <tr>\n",
       "      <th>B3</th>\n",
       "      <td>12.07</td>\n",
       "      <td>87.93</td>\n",
       "    </tr>\n",
       "    <tr>\n",
       "      <th>B4</th>\n",
       "      <td>13.50</td>\n",
       "      <td>86.50</td>\n",
       "    </tr>\n",
       "    <tr>\n",
       "      <th>B5</th>\n",
       "      <td>13.61</td>\n",
       "      <td>86.39</td>\n",
       "    </tr>\n",
       "    <tr>\n",
       "      <th>C1</th>\n",
       "      <td>16.35</td>\n",
       "      <td>83.65</td>\n",
       "    </tr>\n",
       "    <tr>\n",
       "      <th>C2</th>\n",
       "      <td>16.62</td>\n",
       "      <td>83.38</td>\n",
       "    </tr>\n",
       "    <tr>\n",
       "      <th>C3</th>\n",
       "      <td>18.15</td>\n",
       "      <td>81.85</td>\n",
       "    </tr>\n",
       "    <tr>\n",
       "      <th>C4</th>\n",
       "      <td>17.58</td>\n",
       "      <td>82.42</td>\n",
       "    </tr>\n",
       "    <tr>\n",
       "      <th>C5</th>\n",
       "      <td>18.02</td>\n",
       "      <td>81.98</td>\n",
       "    </tr>\n",
       "    <tr>\n",
       "      <th>D1</th>\n",
       "      <td>17.94</td>\n",
       "      <td>82.06</td>\n",
       "    </tr>\n",
       "    <tr>\n",
       "      <th>D2</th>\n",
       "      <td>21.07</td>\n",
       "      <td>78.93</td>\n",
       "    </tr>\n",
       "    <tr>\n",
       "      <th>D3</th>\n",
       "      <td>22.94</td>\n",
       "      <td>77.06</td>\n",
       "    </tr>\n",
       "    <tr>\n",
       "      <th>D4</th>\n",
       "      <td>23.42</td>\n",
       "      <td>76.58</td>\n",
       "    </tr>\n",
       "    <tr>\n",
       "      <th>D5</th>\n",
       "      <td>25.06</td>\n",
       "      <td>74.94</td>\n",
       "    </tr>\n",
       "    <tr>\n",
       "      <th>E1</th>\n",
       "      <td>27.42</td>\n",
       "      <td>72.58</td>\n",
       "    </tr>\n",
       "    <tr>\n",
       "      <th>E2</th>\n",
       "      <td>26.55</td>\n",
       "      <td>73.45</td>\n",
       "    </tr>\n",
       "    <tr>\n",
       "      <th>E3</th>\n",
       "      <td>23.06</td>\n",
       "      <td>76.94</td>\n",
       "    </tr>\n",
       "    <tr>\n",
       "      <th>E4</th>\n",
       "      <td>29.72</td>\n",
       "      <td>70.28</td>\n",
       "    </tr>\n",
       "    <tr>\n",
       "      <th>E5</th>\n",
       "      <td>28.17</td>\n",
       "      <td>71.83</td>\n",
       "    </tr>\n",
       "    <tr>\n",
       "      <th>F1</th>\n",
       "      <td>29.84</td>\n",
       "      <td>70.16</td>\n",
       "    </tr>\n",
       "    <tr>\n",
       "      <th>F2</th>\n",
       "      <td>30.04</td>\n",
       "      <td>69.96</td>\n",
       "    </tr>\n",
       "    <tr>\n",
       "      <th>F3</th>\n",
       "      <td>29.31</td>\n",
       "      <td>70.69</td>\n",
       "    </tr>\n",
       "    <tr>\n",
       "      <th>F4</th>\n",
       "      <td>35.10</td>\n",
       "      <td>64.90</td>\n",
       "    </tr>\n",
       "    <tr>\n",
       "      <th>F5</th>\n",
       "      <td>47.79</td>\n",
       "      <td>52.21</td>\n",
       "    </tr>\n",
       "    <tr>\n",
       "      <th>G1</th>\n",
       "      <td>32.98</td>\n",
       "      <td>67.02</td>\n",
       "    </tr>\n",
       "    <tr>\n",
       "      <th>G2</th>\n",
       "      <td>36.36</td>\n",
       "      <td>63.64</td>\n",
       "    </tr>\n",
       "    <tr>\n",
       "      <th>G3</th>\n",
       "      <td>42.22</td>\n",
       "      <td>57.78</td>\n",
       "    </tr>\n",
       "    <tr>\n",
       "      <th>G4</th>\n",
       "      <td>24.07</td>\n",
       "      <td>75.93</td>\n",
       "    </tr>\n",
       "    <tr>\n",
       "      <th>G5</th>\n",
       "      <td>34.48</td>\n",
       "      <td>65.52</td>\n",
       "    </tr>\n",
       "  </tbody>\n",
       "</table>\n",
       "</div>"
      ],
      "text/plain": [
       "              sub_grade           \n",
       "loan_status Charged Off Fully Paid\n",
       "sub_grade                         \n",
       "A1                 2.63      97.37\n",
       "A2                 4.91      95.09\n",
       "A3                 5.69      94.31\n",
       "A4                 6.20      93.80\n",
       "A5                 7.99      92.01\n",
       "B1                 9.52      90.48\n",
       "B2                11.39      88.61\n",
       "B3                12.07      87.93\n",
       "B4                13.50      86.50\n",
       "B5                13.61      86.39\n",
       "C1                16.35      83.65\n",
       "C2                16.62      83.38\n",
       "C3                18.15      81.85\n",
       "C4                17.58      82.42\n",
       "C5                18.02      81.98\n",
       "D1                17.94      82.06\n",
       "D2                21.07      78.93\n",
       "D3                22.94      77.06\n",
       "D4                23.42      76.58\n",
       "D5                25.06      74.94\n",
       "E1                27.42      72.58\n",
       "E2                26.55      73.45\n",
       "E3                23.06      76.94\n",
       "E4                29.72      70.28\n",
       "E5                28.17      71.83\n",
       "F1                29.84      70.16\n",
       "F2                30.04      69.96\n",
       "F3                29.31      70.69\n",
       "F4                35.10      64.90\n",
       "F5                47.79      52.21\n",
       "G1                32.98      67.02\n",
       "G2                36.36      63.64\n",
       "G3                42.22      57.78\n",
       "G4                24.07      75.93\n",
       "G5                34.48      65.52"
      ]
     },
     "execution_count": 26,
     "metadata": {},
     "output_type": "execute_result"
    }
   ],
   "source": [
    "sub_grade_count = df_not_current.pivot_table(index = 'sub_grade', values = 'loan_status', aggfunc = {'sub_grade': 'count'})\n",
    "loan_status_grade_count = df_not_current.pivot_table(index = ['sub_grade', 'loan_status'], aggfunc = {'sub_grade': 'count'})\n",
    "laon_status_grade_percent = round(loan_status_grade_count * 100 / sub_grade_count, 2)\n",
    "laon_status_grade_percent.unstack()\n",
    "\n",
    "# Borrowers who have taken loan with Grade beyond D2 tend do Default more than others\n",
    "# Borrowers who have taken loan with Grade A or B tend to pay off the loan more than others"
   ]
  },
  {
   "cell_type": "code",
   "execution_count": 28,
   "id": "84dbfada-a6ed-4ab6-be19-83b7438efb1b",
   "metadata": {},
   "outputs": [
    {
     "data": {
      "image/png": "[encoded data removed]",
      "text/plain": [
       "<Figure size 1152x648 with 1 Axes>"
      ]
     },
     "metadata": {
      "needs_background": "light"
     },
     "output_type": "display_data"
    }
   ],
   "source": [
    "laon_status_grade_percent.rename({'sub_grade':'grade'}, axis='columns', inplace = True)\n",
    "laon_status_grade_percent.reset_index(inplace = True)\n",
    "\n",
    "plt.figure(figsize = (16, 9))\n",
    "\n",
    "grade_subgrade_plot = sns.barplot(x = 'sub_grade', y = 'grade', hue = 'loan_status', data = laon_status_grade_percent)\n",
    "plt.xlabel(\"Loan Sub-Grade\")\n",
    "plt.ylabel(\"Percentage of Borrowers\")\n",
    "plt.legend(title = \"Loan Status\")\n",
    "\n",
    "plt.show()"
   ]
  },
  {
   "cell_type": "code",
   "execution_count": 84,
   "id": "ab2208d6-54e8-4dcd-85bd-f5199e409185",
   "metadata": {},
   "outputs": [
    {
     "data": {
      "text/plain": [
       "RENT        48.464408\n",
       "MORTGAGE    43.541518\n",
       "OWN          7.734836\n",
       "OTHER        0.251303\n",
       "NONE         0.007936\n",
       "Name: home_ownership, dtype: float64"
      ]
     },
     "execution_count": 84,
     "metadata": {},
     "output_type": "execute_result"
    }
   ],
   "source": [
    "df_not_current.home_ownership.value_counts()*100/len(df_not_current)"
   ]
  },
  {
   "cell_type": "code",
   "execution_count": 56,
   "id": "f518a7a5-6b7b-499d-929d-7ceb524b6c03",
   "metadata": {},
   "outputs": [
    {
     "name": "stderr",
     "output_type": "stream",
     "text": [
      "C:\\Users\\Aniruddha\\anaconda3\\lib\\site-packages\\seaborn\\_decorators.py:36: FutureWarning: Pass the following variable as a keyword arg: x. From version 0.12, the only valid positional argument will be `data`, and passing other arguments without an explicit keyword will result in an error or misinterpretation.\n",
      "  warnings.warn(\n"
     ]
    },
    {
     "data": {
      "text/plain": [
       "<AxesSubplot:xlabel='home_ownership', ylabel='count'>"
      ]
     },
     "execution_count": 56,
     "metadata": {},
     "output_type": "execute_result"
    },
    {
     "data": {
      "image/png": "[encoded data removed]",
      "text/plain": [
       "<Figure size 432x288 with 1 Axes>"
      ]
     },
     "metadata": {
      "needs_background": "light"
     },
     "output_type": "display_data"
    }
   ],
   "source": [
    "sns.countplot(df_not_current.home_ownership)"
   ]
  },
  {
   "cell_type": "code",
   "execution_count": 57,
   "id": "d8e44e0f-a02c-4565-bdb8-5a56f00e50d5",
   "metadata": {},
   "outputs": [
    {
     "name": "stderr",
     "output_type": "stream",
     "text": [
      "C:\\Users\\Aniruddha\\anaconda3\\lib\\site-packages\\seaborn\\_decorators.py:36: FutureWarning: Pass the following variable as a keyword arg: x. From version 0.12, the only valid positional argument will be `data`, and passing other arguments without an explicit keyword will result in an error or misinterpretation.\n",
      "  warnings.warn(\n"
     ]
    },
    {
     "data": {
      "text/plain": [
       "<AxesSubplot:xlabel='annual_inc'>"
      ]
     },
     "execution_count": 57,
     "metadata": {},
     "output_type": "execute_result"
    },
    {
     "data": {
      "image/png": "[encoded data removed]",
      "text/plain": [
       "<Figure size 432x288 with 1 Axes>"
      ]
     },
     "metadata": {
      "needs_background": "light"
     },
     "output_type": "display_data"
    }
   ],
   "source": [
    "sns.boxplot(df_not_current.annual_inc)"
   ]
  },
  {
   "cell_type": "code",
   "execution_count": 58,
   "id": "4bbc4227-f895-4315-91ac-84beead42f6f",
   "metadata": {},
   "outputs": [
    {
     "data": {
      "text/plain": [
       "0.05      24000.00\n",
       "0.10      30000.00\n",
       "0.15      34000.00\n",
       "0.20      37196.16\n",
       "0.25      40000.00\n",
       "0.30      44500.00\n",
       "0.35      48000.00\n",
       "0.40      50004.00\n",
       "0.45      54908.80\n",
       "0.50      58868.00\n",
       "0.55      61400.00\n",
       "0.60      65004.00\n",
       "0.65      70200.00\n",
       "0.70      75000.00\n",
       "0.75      82000.00\n",
       "0.80      90000.00\n",
       "0.85     100000.00\n",
       "0.90     115000.00\n",
       "0.95     140004.00\n",
       "0.96     150000.00\n",
       "0.97     165000.00\n",
       "0.98     187000.00\n",
       "0.99     234144.00\n",
       "1.00    6000000.00\n",
       "Name: annual_inc, dtype: float64"
      ]
     },
     "execution_count": 58,
     "metadata": {},
     "output_type": "execute_result"
    }
   ],
   "source": [
    "quantiles = df_not_current.annual_inc.quantile([0.05, 0.1, 0.15, 0.20, 0.25, 0.3, 0.35, 0.4, 0.45, 0.5, 0.55, 0.60, 0.65, 0.70, 0.75, 0.8, 0.85, 0.9, 0.95, 0.96, 0.97, 0.98, 0.99, 1])\n",
    "quantiles"
   ]
  },
  {
   "cell_type": "code",
   "execution_count": 59,
   "id": "686bdad3-610d-4cb8-b206-5c44935da7bb",
   "metadata": {},
   "outputs": [],
   "source": [
    "df_not_current = df_not_current[df_not_current.annual_inc < df_not_current.annual_inc.quantile(0.98)]"
   ]
  },
  {
   "cell_type": "code",
   "execution_count": 60,
   "id": "2ece01ae-d373-4dc9-94ef-27d1461de60e",
   "metadata": {},
   "outputs": [
    {
     "name": "stderr",
     "output_type": "stream",
     "text": [
      "C:\\Users\\Aniruddha\\anaconda3\\lib\\site-packages\\seaborn\\_decorators.py:36: FutureWarning: Pass the following variable as a keyword arg: x. From version 0.12, the only valid positional argument will be `data`, and passing other arguments without an explicit keyword will result in an error or misinterpretation.\n",
      "  warnings.warn(\n"
     ]
    },
    {
     "data": {
      "text/plain": [
       "<AxesSubplot:xlabel='int_rate'>"
      ]
     },
     "execution_count": 60,
     "metadata": {},
     "output_type": "execute_result"
    },
    {
     "data": {
      "image/png": "[encoded data removed]",
      "text/plain": [
       "<Figure size 432x288 with 1 Axes>"
      ]
     },
     "metadata": {
      "needs_background": "light"
     },
     "output_type": "display_data"
    }
   ],
   "source": [
    "sns.boxplot(df_not_current.int_rate)\n",
    "# Values are continuous, so no need to remove anything"
   ]
  },
  {
   "cell_type": "code",
   "execution_count": 61,
   "id": "64ea4bf5-8614-4a6a-8afe-966672131b6b",
   "metadata": {},
   "outputs": [
    {
     "name": "stderr",
     "output_type": "stream",
     "text": [
      "C:\\Users\\Aniruddha\\anaconda3\\lib\\site-packages\\seaborn\\_decorators.py:36: FutureWarning: Pass the following variable as a keyword arg: x. From version 0.12, the only valid positional argument will be `data`, and passing other arguments without an explicit keyword will result in an error or misinterpretation.\n",
      "  warnings.warn(\n"
     ]
    },
    {
     "data": {
      "text/plain": [
       "<AxesSubplot:xlabel='loan_amnt'>"
      ]
     },
     "execution_count": 61,
     "metadata": {},
     "output_type": "execute_result"
    },
    {
     "data": {
      "image/png": "[encoded data removed]",
      "text/plain": [
       "<Figure size 432x288 with 1 Axes>"
      ]
     },
     "metadata": {
      "needs_background": "light"
     },
     "output_type": "display_data"
    }
   ],
   "source": [
    "sns.boxplot(df_not_current.loan_amnt)\n",
    "# Values are continuous, so no need to remove anything"
   ]
  },
  {
   "cell_type": "code",
   "execution_count": 64,
   "id": "bc2387f1-072c-4fc9-a420-a5f0648358d9",
   "metadata": {},
   "outputs": [
    {
     "data": {
      "text/html": [
       "<div>\n",
       "<style scoped>\n",
       "    .dataframe tbody tr th:only-of-type {\n",
       "        vertical-align: middle;\n",
       "    }\n",
       "\n",
       "    .dataframe tbody tr th {\n",
       "        vertical-align: top;\n",
       "    }\n",
       "\n",
       "    .dataframe thead th {\n",
       "        text-align: right;\n",
       "    }\n",
       "</style>\n",
       "<table border=\"1\" class=\"dataframe\">\n",
       "  <thead>\n",
       "    <tr style=\"text-align: right;\">\n",
       "      <th></th>\n",
       "      <th>int_rate</th>\n",
       "      <th>term</th>\n",
       "    </tr>\n",
       "  </thead>\n",
       "  <tbody>\n",
       "    <tr>\n",
       "      <th>int_rate</th>\n",
       "      <td>1.000000</td>\n",
       "      <td>0.438309</td>\n",
       "    </tr>\n",
       "    <tr>\n",
       "      <th>term</th>\n",
       "      <td>0.438309</td>\n",
       "      <td>1.000000</td>\n",
       "    </tr>\n",
       "  </tbody>\n",
       "</table>\n",
       "</div>"
      ],
      "text/plain": [
       "          int_rate      term\n",
       "int_rate  1.000000  0.438309\n",
       "term      0.438309  1.000000"
      ]
     },
     "execution_count": 64,
     "metadata": {},
     "output_type": "execute_result"
    }
   ],
   "source": [
    "df_not_current[['int_rate', 'term']].corr()"
   ]
  },
  {
   "cell_type": "code",
   "execution_count": 73,
   "id": "24aaba62-a66b-45df-90bf-fcaa85b0d92a",
   "metadata": {},
   "outputs": [
    {
     "data": {
      "text/plain": [
       "<AxesSubplot:xlabel='annual_inc', ylabel='Count'>"
      ]
     },
     "execution_count": 73,
     "metadata": {},
     "output_type": "execute_result"
    },
    {
     "data": {
      "image/png": "[encoded data removed]",
      "text/plain": [
       "<Figure size 432x288 with 1 Axes>"
      ]
     },
     "metadata": {
      "needs_background": "light"
     },
     "output_type": "display_data"
    }
   ],
   "source": [
    "sns.histplot(df_not_current.annual_inc, kde=True)"
   ]
  },
  {
   "cell_type": "code",
   "execution_count": 65,
   "id": "afc2cf28-486b-4c92-a0d8-321cfb9b8057",
   "metadata": {},
   "outputs": [
    {
     "data": {
      "text/plain": [
       "inc_group             loan_status\n",
       "(30000.0, 37000.0]    Charged Off     573\n",
       "                      Fully Paid     2574\n",
       "(37000.0, 44000.0]    Charged Off     610\n",
       "                      Fully Paid     3155\n",
       "(44000.0, 50000.0]    Charged Off     591\n",
       "                      Fully Paid     3335\n",
       "(50000.0, 57600.0]    Charged Off     527\n",
       "                      Fully Paid     3005\n",
       "(57600.0, 65000.0]    Charged Off     629\n",
       "                      Fully Paid     3539\n",
       "(65000.0, 75000.0]    Charged Off     530\n",
       "                      Fully Paid     3438\n",
       "(75000.0, 87000.0]    Charged Off     406\n",
       "                      Fully Paid     2785\n",
       "(87000.0, 110000.0]   Charged Off     458\n",
       "                      Fully Paid     3620\n",
       "(110000.0, 186996.0]  Charged Off     385\n",
       "                      Fully Paid     3092\n",
       "dtype: int64"
      ]
     },
     "execution_count": 65,
     "metadata": {},
     "output_type": "execute_result"
    }
   ],
   "source": [
    "def get_annual_income_groups(x):\n",
    "    if x > 0 and x <= 10000:\n",
    "        return \"0 to 10000\" \n",
    "    elif x > 10000 and x <= 20000:\n",
    "        return \"10000 to 20000\"\n",
    "    elif x > 20000 and x <= 30000:\n",
    "        return \"20000 to 30000\"\n",
    "    elif x > 30000 and x <= 40000:\n",
    "        return \"30000 to 40000\"\n",
    "    elif x > 40000 and x <= 50000:\n",
    "        return \"40000 to 50000\"\n",
    "    elif x > 50000 and x <= 60000:\n",
    "        return \"50000 to 60000\"\n",
    "    elif x > 60000 and x <= 70000:\n",
    "        return \"60000 to 70000\"\n",
    "    elif x > 70000 and x <= 80000:\n",
    "        return \"70000 to 80000\"\n",
    "    elif x > 80000 and x <= 90000:\n",
    "        return \"80000 to 90000\"\n",
    "    elif x > 90000 and x <= 100000:\n",
    "        return \"90000 to 100000\"\n",
    "    elif x > 100000:\n",
    "        return \"100000 and above\"\n",
    "\n",
    "df_not_current['annual_inc_groups'] = df_not_current.annual_inc.apply(lambda x: get_annual_income_groups(x))\n",
    "\n",
    "df_annual_inc = df_not_current.loc[:,['annual_inc', 'loan_status']]\n",
    "\n",
    "# Add the income level labels to the dataframe and get the count of it in each loan status type\n",
    "df_annual_inc['inc_group'] = pd.cut(df_annual_inc.annual_inc, bins = list(df_not_current.annual_inc.quantile([0.1, 0.2, 0.3, 0.4, 0.5, 0.6, 0.7, 0.8, 0.9, 1])))\n",
    "df_annual_inc = df_annual_inc.loc[:, ['inc_group','loan_status']]\n",
    "df_annual_inc = df_annual_inc.groupby(['inc_group', 'loan_status']).size()\n",
    "df_annual_inc"
   ]
  },
  {
   "cell_type": "code",
   "execution_count": 66,
   "id": "e510273a-a3c7-48ba-8ab9-14b8a7906f0c",
   "metadata": {},
   "outputs": [
    {
     "data": {
      "text/html": [
       "<div>\n",
       "<style scoped>\n",
       "    .dataframe tbody tr th:only-of-type {\n",
       "        vertical-align: middle;\n",
       "    }\n",
       "\n",
       "    .dataframe tbody tr th {\n",
       "        vertical-align: top;\n",
       "    }\n",
       "\n",
       "    .dataframe thead th {\n",
       "        text-align: right;\n",
       "    }\n",
       "</style>\n",
       "<table border=\"1\" class=\"dataframe\">\n",
       "  <thead>\n",
       "    <tr style=\"text-align: right;\">\n",
       "      <th></th>\n",
       "      <th>inc_group</th>\n",
       "      <th>loan_status</th>\n",
       "      <th>percent</th>\n",
       "    </tr>\n",
       "  </thead>\n",
       "  <tbody>\n",
       "    <tr>\n",
       "      <th>0</th>\n",
       "      <td>(30000.0, 37000.0]</td>\n",
       "      <td>Charged Off</td>\n",
       "      <td>18.21</td>\n",
       "    </tr>\n",
       "    <tr>\n",
       "      <th>1</th>\n",
       "      <td>(30000.0, 37000.0]</td>\n",
       "      <td>Fully Paid</td>\n",
       "      <td>81.79</td>\n",
       "    </tr>\n",
       "    <tr>\n",
       "      <th>2</th>\n",
       "      <td>(37000.0, 44000.0]</td>\n",
       "      <td>Charged Off</td>\n",
       "      <td>16.20</td>\n",
       "    </tr>\n",
       "    <tr>\n",
       "      <th>3</th>\n",
       "      <td>(37000.0, 44000.0]</td>\n",
       "      <td>Fully Paid</td>\n",
       "      <td>83.80</td>\n",
       "    </tr>\n",
       "    <tr>\n",
       "      <th>4</th>\n",
       "      <td>(44000.0, 50000.0]</td>\n",
       "      <td>Charged Off</td>\n",
       "      <td>15.05</td>\n",
       "    </tr>\n",
       "    <tr>\n",
       "      <th>5</th>\n",
       "      <td>(44000.0, 50000.0]</td>\n",
       "      <td>Fully Paid</td>\n",
       "      <td>84.95</td>\n",
       "    </tr>\n",
       "    <tr>\n",
       "      <th>6</th>\n",
       "      <td>(50000.0, 57600.0]</td>\n",
       "      <td>Charged Off</td>\n",
       "      <td>14.92</td>\n",
       "    </tr>\n",
       "    <tr>\n",
       "      <th>7</th>\n",
       "      <td>(50000.0, 57600.0]</td>\n",
       "      <td>Fully Paid</td>\n",
       "      <td>85.08</td>\n",
       "    </tr>\n",
       "    <tr>\n",
       "      <th>8</th>\n",
       "      <td>(57600.0, 65000.0]</td>\n",
       "      <td>Charged Off</td>\n",
       "      <td>15.09</td>\n",
       "    </tr>\n",
       "    <tr>\n",
       "      <th>9</th>\n",
       "      <td>(57600.0, 65000.0]</td>\n",
       "      <td>Fully Paid</td>\n",
       "      <td>84.91</td>\n",
       "    </tr>\n",
       "    <tr>\n",
       "      <th>10</th>\n",
       "      <td>(65000.0, 75000.0]</td>\n",
       "      <td>Charged Off</td>\n",
       "      <td>13.36</td>\n",
       "    </tr>\n",
       "    <tr>\n",
       "      <th>11</th>\n",
       "      <td>(65000.0, 75000.0]</td>\n",
       "      <td>Fully Paid</td>\n",
       "      <td>86.64</td>\n",
       "    </tr>\n",
       "    <tr>\n",
       "      <th>12</th>\n",
       "      <td>(75000.0, 87000.0]</td>\n",
       "      <td>Charged Off</td>\n",
       "      <td>12.72</td>\n",
       "    </tr>\n",
       "    <tr>\n",
       "      <th>13</th>\n",
       "      <td>(75000.0, 87000.0]</td>\n",
       "      <td>Fully Paid</td>\n",
       "      <td>87.28</td>\n",
       "    </tr>\n",
       "    <tr>\n",
       "      <th>14</th>\n",
       "      <td>(87000.0, 110000.0]</td>\n",
       "      <td>Charged Off</td>\n",
       "      <td>11.23</td>\n",
       "    </tr>\n",
       "    <tr>\n",
       "      <th>15</th>\n",
       "      <td>(87000.0, 110000.0]</td>\n",
       "      <td>Fully Paid</td>\n",
       "      <td>88.77</td>\n",
       "    </tr>\n",
       "    <tr>\n",
       "      <th>16</th>\n",
       "      <td>(110000.0, 186996.0]</td>\n",
       "      <td>Charged Off</td>\n",
       "      <td>11.07</td>\n",
       "    </tr>\n",
       "    <tr>\n",
       "      <th>17</th>\n",
       "      <td>(110000.0, 186996.0]</td>\n",
       "      <td>Fully Paid</td>\n",
       "      <td>88.93</td>\n",
       "    </tr>\n",
       "  </tbody>\n",
       "</table>\n",
       "</div>"
      ],
      "text/plain": [
       "               inc_group  loan_status  percent\n",
       "0     (30000.0, 37000.0]  Charged Off    18.21\n",
       "1     (30000.0, 37000.0]   Fully Paid    81.79\n",
       "2     (37000.0, 44000.0]  Charged Off    16.20\n",
       "3     (37000.0, 44000.0]   Fully Paid    83.80\n",
       "4     (44000.0, 50000.0]  Charged Off    15.05\n",
       "5     (44000.0, 50000.0]   Fully Paid    84.95\n",
       "6     (50000.0, 57600.0]  Charged Off    14.92\n",
       "7     (50000.0, 57600.0]   Fully Paid    85.08\n",
       "8     (57600.0, 65000.0]  Charged Off    15.09\n",
       "9     (57600.0, 65000.0]   Fully Paid    84.91\n",
       "10    (65000.0, 75000.0]  Charged Off    13.36\n",
       "11    (65000.0, 75000.0]   Fully Paid    86.64\n",
       "12    (75000.0, 87000.0]  Charged Off    12.72\n",
       "13    (75000.0, 87000.0]   Fully Paid    87.28\n",
       "14   (87000.0, 110000.0]  Charged Off    11.23\n",
       "15   (87000.0, 110000.0]   Fully Paid    88.77\n",
       "16  (110000.0, 186996.0]  Charged Off    11.07\n",
       "17  (110000.0, 186996.0]   Fully Paid    88.93"
      ]
     },
     "execution_count": 66,
     "metadata": {},
     "output_type": "execute_result"
    }
   ],
   "source": [
    "annual_income_group = []\n",
    "for i in df_annual_inc.reset_index().groupby('inc_group').sum()[0]:\n",
    "    annual_income_group.append(i)\n",
    "    annual_income_group.append(i)\n",
    "annual_income_group\n",
    "\n",
    "percent_income = round(100*(df_annual_inc)/annual_income_group, 2).reset_index()\n",
    "percent_income['percent'] = percent_income[0]\n",
    "percent_income = percent_income.drop(0, axis=1)\n",
    "percent_income"
   ]
  },
  {
   "cell_type": "code",
   "execution_count": 67,
   "id": "aa1f15a2-56c9-4c9a-903a-596fcca5855e",
   "metadata": {},
   "outputs": [
    {
     "data": {
      "image/png": "[encoded data removed]",
      "text/plain": [
       "<Figure size 1080x504 with 1 Axes>"
      ]
     },
     "metadata": {
      "needs_background": "light"
     },
     "output_type": "display_data"
    }
   ],
   "source": [
    "plt.figure(figsize=(15,7))\n",
    "\n",
    "ax = sns.barplot(y='percent', x='inc_group', hue='loan_status', data=percent_income)\n",
    "# Get values of each bar\n",
    "for p in ax.patches:\n",
    "    height = p.get_height()\n",
    "    ax.text(p.get_x()+p.get_width()/2., height, '{:1.2f}'.format(height), ha=\"center\") \n",
    "    \n",
    "plt.xlabel(\"Income Group\")\n",
    "plt.ylabel(\"Percentage of Appliers\")\n",
    "plt.legend(title = \"Loan Status\")\n",
    "\n",
    "plt.show()\n",
    "\n",
    "# Borrowers with annual income < 55,000 USD (L5 Level) tend to default and those with > 65,000 USD (L6 income level) tend to pay"
   ]
  },
  {
   "cell_type": "code",
   "execution_count": 68,
   "id": "a6ee49af-f0ab-44c0-802f-262104863e37",
   "metadata": {},
   "outputs": [
    {
     "data": {
      "text/html": [
       "<div>\n",
       "<style scoped>\n",
       "    .dataframe tbody tr th:only-of-type {\n",
       "        vertical-align: middle;\n",
       "    }\n",
       "\n",
       "    .dataframe tbody tr th {\n",
       "        vertical-align: top;\n",
       "    }\n",
       "\n",
       "    .dataframe thead th {\n",
       "        text-align: right;\n",
       "    }\n",
       "</style>\n",
       "<table border=\"1\" class=\"dataframe\">\n",
       "  <thead>\n",
       "    <tr style=\"text-align: right;\">\n",
       "      <th></th>\n",
       "      <th>id</th>\n",
       "      <th>member_id</th>\n",
       "      <th>loan_amnt</th>\n",
       "      <th>funded_amnt</th>\n",
       "      <th>funded_amnt_inv</th>\n",
       "      <th>term</th>\n",
       "      <th>int_rate</th>\n",
       "      <th>grade</th>\n",
       "      <th>sub_grade</th>\n",
       "      <th>emp_length</th>\n",
       "      <th>...</th>\n",
       "      <th>open_acc</th>\n",
       "      <th>pub_rec</th>\n",
       "      <th>revol_bal</th>\n",
       "      <th>revol_util</th>\n",
       "      <th>total_acc</th>\n",
       "      <th>out_prncp</th>\n",
       "      <th>out_prncp_inv</th>\n",
       "      <th>total_pymnt</th>\n",
       "      <th>loan_status_int</th>\n",
       "      <th>annual_inc_groups</th>\n",
       "    </tr>\n",
       "  </thead>\n",
       "  <tbody>\n",
       "    <tr>\n",
       "      <th>0</th>\n",
       "      <td>1077501</td>\n",
       "      <td>1296599</td>\n",
       "      <td>5000</td>\n",
       "      <td>5000</td>\n",
       "      <td>4975.0</td>\n",
       "      <td>36</td>\n",
       "      <td>10.65</td>\n",
       "      <td>B</td>\n",
       "      <td>B2</td>\n",
       "      <td>10</td>\n",
       "      <td>...</td>\n",
       "      <td>3</td>\n",
       "      <td>0</td>\n",
       "      <td>13648</td>\n",
       "      <td>83.70%</td>\n",
       "      <td>9</td>\n",
       "      <td>0.0</td>\n",
       "      <td>0.0</td>\n",
       "      <td>5863.155187</td>\n",
       "      <td>1</td>\n",
       "      <td>20000 to 30000</td>\n",
       "    </tr>\n",
       "    <tr>\n",
       "      <th>1</th>\n",
       "      <td>1077430</td>\n",
       "      <td>1314167</td>\n",
       "      <td>2500</td>\n",
       "      <td>2500</td>\n",
       "      <td>2500.0</td>\n",
       "      <td>60</td>\n",
       "      <td>15.27</td>\n",
       "      <td>C</td>\n",
       "      <td>C4</td>\n",
       "      <td>1</td>\n",
       "      <td>...</td>\n",
       "      <td>3</td>\n",
       "      <td>0</td>\n",
       "      <td>1687</td>\n",
       "      <td>9.40%</td>\n",
       "      <td>4</td>\n",
       "      <td>0.0</td>\n",
       "      <td>0.0</td>\n",
       "      <td>1008.710000</td>\n",
       "      <td>0</td>\n",
       "      <td>20000 to 30000</td>\n",
       "    </tr>\n",
       "    <tr>\n",
       "      <th>2</th>\n",
       "      <td>1077175</td>\n",
       "      <td>1313524</td>\n",
       "      <td>2400</td>\n",
       "      <td>2400</td>\n",
       "      <td>2400.0</td>\n",
       "      <td>36</td>\n",
       "      <td>15.96</td>\n",
       "      <td>C</td>\n",
       "      <td>C5</td>\n",
       "      <td>10</td>\n",
       "      <td>...</td>\n",
       "      <td>2</td>\n",
       "      <td>0</td>\n",
       "      <td>2956</td>\n",
       "      <td>98.50%</td>\n",
       "      <td>10</td>\n",
       "      <td>0.0</td>\n",
       "      <td>0.0</td>\n",
       "      <td>3005.666844</td>\n",
       "      <td>1</td>\n",
       "      <td>10000 to 20000</td>\n",
       "    </tr>\n",
       "    <tr>\n",
       "      <th>3</th>\n",
       "      <td>1076863</td>\n",
       "      <td>1277178</td>\n",
       "      <td>10000</td>\n",
       "      <td>10000</td>\n",
       "      <td>10000.0</td>\n",
       "      <td>36</td>\n",
       "      <td>13.49</td>\n",
       "      <td>C</td>\n",
       "      <td>C1</td>\n",
       "      <td>10</td>\n",
       "      <td>...</td>\n",
       "      <td>10</td>\n",
       "      <td>0</td>\n",
       "      <td>5598</td>\n",
       "      <td>21%</td>\n",
       "      <td>37</td>\n",
       "      <td>0.0</td>\n",
       "      <td>0.0</td>\n",
       "      <td>12231.890000</td>\n",
       "      <td>1</td>\n",
       "      <td>40000 to 50000</td>\n",
       "    </tr>\n",
       "    <tr>\n",
       "      <th>5</th>\n",
       "      <td>1075269</td>\n",
       "      <td>1311441</td>\n",
       "      <td>5000</td>\n",
       "      <td>5000</td>\n",
       "      <td>5000.0</td>\n",
       "      <td>36</td>\n",
       "      <td>7.90</td>\n",
       "      <td>A</td>\n",
       "      <td>A4</td>\n",
       "      <td>3</td>\n",
       "      <td>...</td>\n",
       "      <td>9</td>\n",
       "      <td>0</td>\n",
       "      <td>7963</td>\n",
       "      <td>28.30%</td>\n",
       "      <td>12</td>\n",
       "      <td>0.0</td>\n",
       "      <td>0.0</td>\n",
       "      <td>5632.210000</td>\n",
       "      <td>1</td>\n",
       "      <td>30000 to 40000</td>\n",
       "    </tr>\n",
       "  </tbody>\n",
       "</table>\n",
       "<p>5 rows × 34 columns</p>\n",
       "</div>"
      ],
      "text/plain": [
       "        id  member_id  loan_amnt  funded_amnt  funded_amnt_inv  term  \\\n",
       "0  1077501    1296599       5000         5000           4975.0    36   \n",
       "1  1077430    1314167       2500         2500           2500.0    60   \n",
       "2  1077175    1313524       2400         2400           2400.0    36   \n",
       "3  1076863    1277178      10000        10000          10000.0    36   \n",
       "5  1075269    1311441       5000         5000           5000.0    36   \n",
       "\n",
       "   int_rate grade sub_grade emp_length  ... open_acc  pub_rec revol_bal  \\\n",
       "0     10.65     B        B2         10  ...        3        0     13648   \n",
       "1     15.27     C        C4          1  ...        3        0      1687   \n",
       "2     15.96     C        C5         10  ...        2        0      2956   \n",
       "3     13.49     C        C1         10  ...       10        0      5598   \n",
       "5      7.90     A        A4          3  ...        9        0      7963   \n",
       "\n",
       "  revol_util total_acc out_prncp out_prncp_inv   total_pymnt loan_status_int  \\\n",
       "0     83.70%         9       0.0           0.0   5863.155187               1   \n",
       "1      9.40%         4       0.0           0.0   1008.710000               0   \n",
       "2     98.50%        10       0.0           0.0   3005.666844               1   \n",
       "3        21%        37       0.0           0.0  12231.890000               1   \n",
       "5     28.30%        12       0.0           0.0   5632.210000               1   \n",
       "\n",
       "  annual_inc_groups  \n",
       "0    20000 to 30000  \n",
       "1    20000 to 30000  \n",
       "2    10000 to 20000  \n",
       "3    40000 to 50000  \n",
       "5    30000 to 40000  \n",
       "\n",
       "[5 rows x 34 columns]"
      ]
     },
     "execution_count": 68,
     "metadata": {},
     "output_type": "execute_result"
    }
   ],
   "source": [
    "df_not_current.head()"
   ]
  },
  {
   "cell_type": "code",
   "execution_count": 69,
   "id": "bd487be1-4634-428c-a041-e010a989ecaa",
   "metadata": {},
   "outputs": [
    {
     "data": {
      "text/plain": [
       "<AxesSubplot:xlabel='annual_inc_groups', ylabel='count'>"
      ]
     },
     "execution_count": 69,
     "metadata": {},
     "output_type": "execute_result"
    },
    {
     "data": {
      "image/png": "[encoded data removed]",
      "text/plain": [
       "<Figure size 1440x576 with 1 Axes>"
      ]
     },
     "metadata": {
      "needs_background": "light"
     },
     "output_type": "display_data"
    }
   ],
   "source": [
    "plt.figure(figsize=(20, 8))\n",
    "sns.countplot(data=df_not_current, x=df_not_current.annual_inc_groups, hue=\"loan_status\")"
   ]
  },
  {
   "cell_type": "code",
   "execution_count": 72,
   "id": "f9d7aab0-0861-4904-82c3-8184a0b9833d",
   "metadata": {},
   "outputs": [
    {
     "data": {
      "text/plain": [
       "0.05     2400.0\n",
       "0.10     3000.0\n",
       "0.15     4000.0\n",
       "0.20     5000.0\n",
       "0.25     5100.0\n",
       "0.30     6000.0\n",
       "0.35     7000.0\n",
       "0.40     7500.0\n",
       "0.45     8000.0\n",
       "0.50     9600.0\n",
       "0.55    10000.0\n",
       "0.60    11000.0\n",
       "0.65    12000.0\n",
       "0.70    13200.0\n",
       "0.75    15000.0\n",
       "0.80    16000.0\n",
       "0.85    19000.0\n",
       "0.90    21000.0\n",
       "0.95    25000.0\n",
       "0.96    25000.0\n",
       "0.97    27575.0\n",
       "0.98    30000.0\n",
       "0.99    35000.0\n",
       "1.00    35000.0\n",
       "Name: loan_amnt, dtype: float64"
      ]
     },
     "execution_count": 72,
     "metadata": {},
     "output_type": "execute_result"
    }
   ],
   "source": [
    "quantiles = df_not_current.loan_amnt.quantile([0.05, 0.1, 0.15, 0.20, 0.25, 0.3, 0.35, 0.4, 0.45, 0.5, 0.55, 0.60, 0.65, 0.70, 0.75, 0.8, 0.85, 0.9, 0.95, 0.96, 0.97, 0.98, 0.99, 1])\n",
    "quantiles"
   ]
  },
  {
   "cell_type": "code",
   "execution_count": 71,
   "id": "2f66baac-4c81-4077-b2a1-1e1fbea8f9d4",
   "metadata": {},
   "outputs": [
    {
     "data": {
      "text/plain": [
       "loan_level   loan_status\n",
       "0-5000       Charged Off     1309\n",
       "             Fully Paid      8100\n",
       "5000-10000   Charged Off     1631\n",
       "             Fully Paid     11044\n",
       "10000-15000  Charged Off     1047\n",
       "             Fully Paid      6504\n",
       "15000-20000  Charged Off      737\n",
       "             Fully Paid      3489\n",
       "20000-25000  Charged Off      518\n",
       "             Fully Paid      2139\n",
       "25000-30000  Charged Off      137\n",
       "             Fully Paid       510\n",
       "30000-35000  Charged Off      169\n",
       "             Fully Paid       469\n",
       "dtype: int64"
      ]
     },
     "execution_count": 71,
     "metadata": {},
     "output_type": "execute_result"
    }
   ],
   "source": [
    "loan_amnt_groups = [0, 5000, 10000, 15000, 20000, 25000, 30000, 35000]\n",
    "loan_amnt_labels = ['0-5000', '5000-10000', '10000-15000', '15000-20000', '20000-25000','25000-30000', '30000-35000']\n",
    "\n",
    "loan_amnt_df = df_not_current.loc[:,['loan_amnt', 'loan_status']]\n",
    "\n",
    "# Add the loan amount level labels to the dataframe and get the count of it in each loan status type\n",
    "loan_amnt_df['loan_level'] = pd.cut(loan_amnt_df.loan_amnt, bins=loan_amnt_groups, labels =loan_amnt_labels)\n",
    "loan_amnt_df = loan_amnt_df.loc[:, ['loan_level','loan_status']]\n",
    "loan_amnt_df = loan_amnt_df.groupby(['loan_level', 'loan_status']).size()\n",
    "loan_amnt_df"
   ]
  },
  {
   "cell_type": "code",
   "execution_count": 51,
   "id": "91549814-6c94-4c5e-b3b9-46d8e7fc68b5",
   "metadata": {},
   "outputs": [
    {
     "data": {
      "text/html": [
       "<div>\n",
       "<style scoped>\n",
       "    .dataframe tbody tr th:only-of-type {\n",
       "        vertical-align: middle;\n",
       "    }\n",
       "\n",
       "    .dataframe tbody tr th {\n",
       "        vertical-align: top;\n",
       "    }\n",
       "\n",
       "    .dataframe thead th {\n",
       "        text-align: right;\n",
       "    }\n",
       "</style>\n",
       "<table border=\"1\" class=\"dataframe\">\n",
       "  <thead>\n",
       "    <tr style=\"text-align: right;\">\n",
       "      <th></th>\n",
       "      <th>loan_level</th>\n",
       "      <th>loan_status</th>\n",
       "      <th>percent</th>\n",
       "    </tr>\n",
       "  </thead>\n",
       "  <tbody>\n",
       "    <tr>\n",
       "      <th>0</th>\n",
       "      <td>0-5000</td>\n",
       "      <td>Charged Off</td>\n",
       "      <td>13.87</td>\n",
       "    </tr>\n",
       "    <tr>\n",
       "      <th>1</th>\n",
       "      <td>0-5000</td>\n",
       "      <td>Fully Paid</td>\n",
       "      <td>86.13</td>\n",
       "    </tr>\n",
       "    <tr>\n",
       "      <th>2</th>\n",
       "      <td>5000-10000</td>\n",
       "      <td>Charged Off</td>\n",
       "      <td>12.83</td>\n",
       "    </tr>\n",
       "    <tr>\n",
       "      <th>3</th>\n",
       "      <td>5000-10000</td>\n",
       "      <td>Fully Paid</td>\n",
       "      <td>87.17</td>\n",
       "    </tr>\n",
       "    <tr>\n",
       "      <th>4</th>\n",
       "      <td>10000-15000</td>\n",
       "      <td>Charged Off</td>\n",
       "      <td>13.73</td>\n",
       "    </tr>\n",
       "    <tr>\n",
       "      <th>5</th>\n",
       "      <td>10000-15000</td>\n",
       "      <td>Fully Paid</td>\n",
       "      <td>86.27</td>\n",
       "    </tr>\n",
       "    <tr>\n",
       "      <th>6</th>\n",
       "      <td>15000-20000</td>\n",
       "      <td>Charged Off</td>\n",
       "      <td>17.27</td>\n",
       "    </tr>\n",
       "    <tr>\n",
       "      <th>7</th>\n",
       "      <td>15000-20000</td>\n",
       "      <td>Fully Paid</td>\n",
       "      <td>82.73</td>\n",
       "    </tr>\n",
       "    <tr>\n",
       "      <th>8</th>\n",
       "      <td>20000-25000</td>\n",
       "      <td>Charged Off</td>\n",
       "      <td>19.11</td>\n",
       "    </tr>\n",
       "    <tr>\n",
       "      <th>9</th>\n",
       "      <td>20000-25000</td>\n",
       "      <td>Fully Paid</td>\n",
       "      <td>80.89</td>\n",
       "    </tr>\n",
       "    <tr>\n",
       "      <th>10</th>\n",
       "      <td>25000-30000</td>\n",
       "      <td>Charged Off</td>\n",
       "      <td>20.43</td>\n",
       "    </tr>\n",
       "    <tr>\n",
       "      <th>11</th>\n",
       "      <td>25000-30000</td>\n",
       "      <td>Fully Paid</td>\n",
       "      <td>79.57</td>\n",
       "    </tr>\n",
       "    <tr>\n",
       "      <th>12</th>\n",
       "      <td>30000-35000</td>\n",
       "      <td>Charged Off</td>\n",
       "      <td>24.49</td>\n",
       "    </tr>\n",
       "    <tr>\n",
       "      <th>13</th>\n",
       "      <td>30000-35000</td>\n",
       "      <td>Fully Paid</td>\n",
       "      <td>75.51</td>\n",
       "    </tr>\n",
       "  </tbody>\n",
       "</table>\n",
       "</div>"
      ],
      "text/plain": [
       "     loan_level  loan_status  percent\n",
       "0        0-5000  Charged Off    13.87\n",
       "1        0-5000   Fully Paid    86.13\n",
       "2    5000-10000  Charged Off    12.83\n",
       "3    5000-10000   Fully Paid    87.17\n",
       "4   10000-15000  Charged Off    13.73\n",
       "5   10000-15000   Fully Paid    86.27\n",
       "6   15000-20000  Charged Off    17.27\n",
       "7   15000-20000   Fully Paid    82.73\n",
       "8   20000-25000  Charged Off    19.11\n",
       "9   20000-25000   Fully Paid    80.89\n",
       "10  25000-30000  Charged Off    20.43\n",
       "11  25000-30000   Fully Paid    79.57\n",
       "12  30000-35000  Charged Off    24.49\n",
       "13  30000-35000   Fully Paid    75.51"
      ]
     },
     "execution_count": 51,
     "metadata": {},
     "output_type": "execute_result"
    }
   ],
   "source": [
    "loan_a_count = []\n",
    "for i in loan_amnt_df.reset_index().groupby('loan_level').sum()[0]:\n",
    "    loan_a_count.append(i)\n",
    "    loan_a_count.append(i)\n",
    "loan_a_count\n",
    "\n",
    "amnt_percentage = round(100*(loan_amnt_df)/loan_a_count, 2).reset_index()\n",
    "amnt_percentage['percent'] = amnt_percentage[0]\n",
    "amnt_percentage = amnt_percentage.drop(0, axis=1)\n",
    "amnt_percentage"
   ]
  },
  {
   "cell_type": "code",
   "execution_count": 52,
   "id": "69e1745a-25ab-45d0-a0f3-f867063d9647",
   "metadata": {},
   "outputs": [
    {
     "data": {
      "image/png": "[encoded data removed]",
      "text/plain": [
       "<Figure size 1080x504 with 1 Axes>"
      ]
     },
     "metadata": {
      "needs_background": "light"
     },
     "output_type": "display_data"
    }
   ],
   "source": [
    "plt.figure(figsize=(15,7))\n",
    "\n",
    "axes = sns.barplot(y='percent', x='loan_level', hue='loan_status', data=amnt_percentage)\n",
    "for patch in axes.patches:\n",
    "    height = patch.get_height()\n",
    "    axes.text(patch.get_x()+patch.get_width()/2., height, '{:1.2f}'.format(height), ha=\"center\") \n",
    "    \n",
    "plt.xlabel(\"Loan Amount Range\")\n",
    "plt.ylabel(\"Percentage of Appliers\")\n",
    "plt.legend(title = \"Loan Status\")\n",
    "\n",
    "plt.show()\n",
    "\n",
    "# Borrowers with loan amount > 15,000 USD tend to default, those with < 15,000 USD tend to pay"
   ]
  },
  {
   "cell_type": "code",
   "execution_count": 67,
   "id": "ade1dfef-80a6-4b04-90de-63f21e3b7fe4",
   "metadata": {},
   "outputs": [
    {
     "data": {
      "text/plain": [
       "<AxesSubplot:xlabel='home_ownership', ylabel='count'>"
      ]
     },
     "execution_count": 67,
     "metadata": {},
     "output_type": "execute_result"
    },
    {
     "data": {
      "image/png": "[encoded data removed]",
      "text/plain": [
       "<Figure size 432x288 with 1 Axes>"
      ]
     },
     "metadata": {
      "needs_background": "light"
     },
     "output_type": "display_data"
    }
   ],
   "source": [
    "sns.countplot(data=df_not_current, x=df_not_current.home_ownership, hue=\"loan_status\")"
   ]
  },
  {
   "cell_type": "code",
   "execution_count": 57,
   "id": "df387789-a9b1-4095-80d1-c6458c07757b",
   "metadata": {},
   "outputs": [
    {
     "name": "stderr",
     "output_type": "stream",
     "text": [
      "C:\\Users\\Aniruddha\\AppData\\Local\\Temp\\ipykernel_27612\\1542182181.py:2: SettingWithCopyWarning: \n",
      "A value is trying to be set on a copy of a slice from a DataFrame.\n",
      "Try using .loc[row_indexer,col_indexer] = value instead\n",
      "\n",
      "See the caveats in the documentation: https://pandas.pydata.org/pandas-docs/stable/user_guide/indexing.html#returning-a-view-versus-a-copy\n",
      "  df_home_ownership['home_ownership'] = df_home_ownership['home_ownership'].astype('category').cat.remove_unused_categories()\n"
     ]
    },
    {
     "data": {
      "text/html": [
       "<div>\n",
       "<style scoped>\n",
       "    .dataframe tbody tr th:only-of-type {\n",
       "        vertical-align: middle;\n",
       "    }\n",
       "\n",
       "    .dataframe tbody tr th {\n",
       "        vertical-align: top;\n",
       "    }\n",
       "\n",
       "    .dataframe thead th {\n",
       "        text-align: right;\n",
       "    }\n",
       "</style>\n",
       "<table border=\"1\" class=\"dataframe\">\n",
       "  <thead>\n",
       "    <tr style=\"text-align: right;\">\n",
       "      <th></th>\n",
       "      <th></th>\n",
       "      <th>home_ownership</th>\n",
       "    </tr>\n",
       "    <tr>\n",
       "      <th>home_ownership</th>\n",
       "      <th>loan_status</th>\n",
       "      <th></th>\n",
       "    </tr>\n",
       "  </thead>\n",
       "  <tbody>\n",
       "    <tr>\n",
       "      <th rowspan=\"2\" valign=\"top\">MORTGAGE</th>\n",
       "      <th>Charged Off</th>\n",
       "      <td>13.67</td>\n",
       "    </tr>\n",
       "    <tr>\n",
       "      <th>Fully Paid</th>\n",
       "      <td>86.33</td>\n",
       "    </tr>\n",
       "    <tr>\n",
       "      <th rowspan=\"2\" valign=\"top\">OTHER</th>\n",
       "      <th>Charged Off</th>\n",
       "      <td>18.37</td>\n",
       "    </tr>\n",
       "    <tr>\n",
       "      <th>Fully Paid</th>\n",
       "      <td>81.63</td>\n",
       "    </tr>\n",
       "    <tr>\n",
       "      <th rowspan=\"2\" valign=\"top\">OWN</th>\n",
       "      <th>Charged Off</th>\n",
       "      <td>14.89</td>\n",
       "    </tr>\n",
       "    <tr>\n",
       "      <th>Fully Paid</th>\n",
       "      <td>85.11</td>\n",
       "    </tr>\n",
       "    <tr>\n",
       "      <th rowspan=\"2\" valign=\"top\">RENT</th>\n",
       "      <th>Charged Off</th>\n",
       "      <td>15.36</td>\n",
       "    </tr>\n",
       "    <tr>\n",
       "      <th>Fully Paid</th>\n",
       "      <td>84.64</td>\n",
       "    </tr>\n",
       "  </tbody>\n",
       "</table>\n",
       "</div>"
      ],
      "text/plain": [
       "                            home_ownership\n",
       "home_ownership loan_status                \n",
       "MORTGAGE       Charged Off           13.67\n",
       "               Fully Paid            86.33\n",
       "OTHER          Charged Off           18.37\n",
       "               Fully Paid            81.63\n",
       "OWN            Charged Off           14.89\n",
       "               Fully Paid            85.11\n",
       "RENT           Charged Off           15.36\n",
       "               Fully Paid            84.64"
      ]
     },
     "execution_count": 57,
     "metadata": {},
     "output_type": "execute_result"
    }
   ],
   "source": [
    "df_home_ownership = df_not_current.loc[df_not_current['home_ownership'] != 'NONE']\n",
    "df_home_ownership['home_ownership'] = df_home_ownership['home_ownership'].astype('category').cat.remove_unused_categories()\n",
    "\n",
    "# Get percentage of Loan Status in each of the home ownership type\n",
    "home_own_count = df_home_ownership.pivot_table(index = 'home_ownership', values = 'loan_status', aggfunc = {'home_ownership': 'count'})    \n",
    "loan_status_home_count = df_home_ownership.pivot_table(index = ['home_ownership', 'loan_status'], aggfunc = {'home_ownership': 'count'})\n",
    "loan_status_home_percent = round(loan_status_home_count * 100 / home_own_count, 2)\n",
    "\n",
    "# Select top categories which have Fully Paid\n",
    "top_paid = list(loan_status_home_percent.iloc[np.arange(1, len(loan_status_home_percent), 2),0])\n",
    "top_paid.sort(reverse = True)\n",
    "\n",
    "# Select top categories which have resulted in Charged-Off\n",
    "top_choff = list(loan_status_home_percent.iloc[np.arange(0, len(loan_status_home_percent), 2),0])\n",
    "top_choff.sort(reverse = True)\n",
    "\n",
    "loan_status_home_percent\n",
    "\n",
    "# Borrowers with Rented Houses or Other as Home Ownership status tend do Default more than others\n",
    "# Borrowers with Mortgaged House or living in Own Hosue tend to pay off the loan more than others"
   ]
  },
  {
   "cell_type": "code",
   "execution_count": null,
   "id": "bacbe3c9-0793-4c78-81f8-08ae912f684b",
   "metadata": {},
   "outputs": [],
   "source": [
    "purpose_count = df_not_current.pivot_table(index = 'purpose', values = 'loan_status', aggfunc = {'purpose': 'count'})    \n",
    "loan_status_purp_count = df_not_current.pivot_table(index = ['purpose', 'loan_status'], aggfunc = {'purpose': 'count'})\n",
    "loan_status_purp_pcnt = loan_status_purp_count * 100 / purpose_count\n",
    "\n",
    "# Select top categories which have Fully Paid\n",
    "top_paid = list(loan_status_purp_pcnt.iloc[np.arange(1, len(loan_status_purp_pcnt), 2),0])\n",
    "top_paid.sort(reverse = True)\n",
    "\n",
    "# Select top categories which have resulted in Charged-Off\n",
    "top_choff = list(loan_status_purp_pcnt.iloc[np.arange(0, len(loan_status_purp_pcnt), 2),0])\n",
    "top_choff.sort(reverse = True)\n",
    "\n",
    "loan_status_purp_pcnt_sty = loan_status_purp_pcnt.style.applymap(highlighter_top2).format({'purpose':'{0:,.2f}%'})\n",
    "loan_status_purp_pcnt_sty"
   ]
  }
 ],
 "metadata": {
  "kernelspec": {
   "display_name": "Python 3 (ipykernel)",
   "language": "python",
   "name": "python3"
  },
  "language_info": {
   "codemirror_mode": {
    "name": "ipython",
    "version": 3
   },
   "file_extension": ".py",
   "mimetype": "text/x-python",
   "name": "python",
   "nbconvert_exporter": "python",
   "pygments_lexer": "ipython3",
   "version": "3.9.12"
  }
 },
 "nbformat": 4,
 "nbformat_minor": 5
}
